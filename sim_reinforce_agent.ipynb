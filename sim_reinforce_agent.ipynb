{
 "cells": [
  {
   "cell_type": "code",
   "execution_count": 1,
   "metadata": {
    "colab": {
     "base_uri": "https://localhost:8080/"
    },
    "id": "DoK10It3TUN2",
    "outputId": "115d4998-5725-4fe6-d9c4-7f5597f5eeff"
   },
   "outputs": [],
   "source": [
    "# import tensorflow as tf\n",
    "# tf.config.list_physical_devices('GPU')\n",
    "# tf.test.is_built_with_cuda()\n",
    "import os, sys\n",
    "sys.path.append('../')\n",
    "import torch\n",
    "import torch.nn as nn \n",
    "from torch import nn\n",
    "import matplotlib.pyplot as plt\n",
    "import numpy as np\n",
    "from save_best_model import SaveBestModel\n",
    "from sandpile import Sandpile, run_sandpile_alone\n",
    "import random\n",
    "from collections import deque\n",
    "from torch.distributions import Categorical\n",
    "import time\n",
    "import datetime\n",
    "from rl_agents import Policy\n",
    "from util import Directions\n",
    "from torch_util import enum_parameters\n",
    "\n",
    "# Set the seed value all over the place to make this reproducible.\n",
    "seed_val = 42\n",
    "\n",
    "\n",
    "random.seed(seed_val)\n",
    "np.random.seed(seed_val)\n",
    "torch.manual_seed(seed_val)\n",
    "torch.cuda.manual_seed_all(seed_val)\n"
   ]
  },
  {
   "cell_type": "code",
   "execution_count": 5,
   "metadata": {},
   "outputs": [
    {
     "name": "stdout",
     "output_type": "stream",
     "text": [
      "Using GPU.\n",
      "Total Trainable Params: 40133\n",
      "Best Score: 1812.57\n",
      "Time to run sim:  31.275437593460083\n"
     ]
    }
   ],
   "source": [
    "# Run the best model\n",
    "if torch.cuda.is_available():       \n",
    "    device = torch.device(\"cuda\")\n",
    "    print(\"Using GPU.\")\n",
    "else:\n",
    "    print(\"No GPU available, using the CPU instead.\")\n",
    "    device = torch.device(\"cpu\")\n",
    "\n",
    "\n",
    "# SET UP POLICY AGENT\n",
    "N_grid = 10\n",
    "num_hidden_layers = 4\n",
    "hidden_dim = 64\n",
    "input_dim = ((2*N_grid-1)**2) # The number of input variables. \n",
    "output_dim = len(Directions) # The number of output variables. \n",
    "\n",
    "rl_policy_agent = Policy(\n",
    "    input_dim=input_dim,\n",
    "    num_hidden_layers=num_hidden_layers,\n",
    "    hidden_dim=hidden_dim,\n",
    "    output_dim=output_dim,\n",
    "    device=device\n",
    ")\n",
    "enum_parameters(rl_policy_agent)\n",
    "rl_policy_agent.to(device)\n",
    "\n",
    "model_nickname = 'reinforce-agent'\n",
    "\n",
    "# model_dir = f'/staging_area/{model_nickname}/'\n",
    "model_dir = ''\n",
    "\n",
    "checkpoint = torch.load(model_dir+'best_rl_policy_agent.tar')\n",
    "g = checkpoint['model_state_dict']\n",
    "score = checkpoint['score']\n",
    "print(f'Best Score: {score}')\n",
    "rl_policy_agent.load_state_dict(g)\n",
    "\n",
    "# Put model in evaluation mode\n",
    "rl_policy_agent.eval()\n",
    "\n",
    "\n",
    "# aggregate agents\n",
    "agents = [rl_policy_agent]\n",
    "\n",
    "N_RUNS_TEST = 10\n",
    "MAXIMUM_GRAINS = 4\n",
    "max_nmoves_per_episode = 1000\n",
    "\n",
    "t0 = time.time()\n",
    "test_scores = []\n",
    "agent_nmoves = []\n",
    "\n",
    "for _ in range(N_RUNS_TEST):\n",
    "    # start new sandpile with initial grid\n",
    "    rl_policy_agent.reset()\n",
    "\n",
    "    # # generate initial grid\n",
    "    initial_grid_N = N_grid * N_grid * 4\n",
    "    # print('Generating initial grid')\n",
    "    initial_grid = run_sandpile_alone(N_grid=N_grid, initial_grid=None, MAXIMUM_GRAINS=MAXIMUM_GRAINS, DROP_SAND=True, MAX_STEPS=initial_grid_N)\n",
    "\n",
    "    sandpile = Sandpile(N_grid=N_grid, initial_grid=initial_grid, MAXIMUM_GRAINS=MAXIMUM_GRAINS, agents=agents, MAX_STEPS=max_nmoves_per_episode, grain_loc_order=None)\n",
    "\n",
    "    # move agent to random position at beginning of episode\n",
    "    rl_policy_agent.move_agent_to_point(random.randint(0,N_grid-1), random.randint(0,N_grid-1))\n",
    "    # rl_policy_agent.move_agent_to_point(N_grid-1, N_grid-1)\n",
    "\n",
    "    pos = rl_policy_agent.get_agent_pos()\n",
    "\n",
    "\n",
    "    sandpile = Sandpile(N_grid=N_grid, initial_grid=initial_grid, MAXIMUM_GRAINS=MAXIMUM_GRAINS, agents=agents, MAX_STEPS=max_nmoves_per_episode, grain_loc_order=None)\n",
    "    # move agent to random position at beginning of episode\n",
    "    rl_policy_agent.move_agent_to_point(random.randint(0,N_grid-1), random.randint(0,N_grid-1))\n",
    "\n",
    "    pos = rl_policy_agent.get_agent_pos()\n",
    "    \n",
    "    episode_rewards = []\n",
    "    agent_moves = []\n",
    "    i = 0\n",
    "    game_is_running = True\n",
    "    with torch.no_grad():\n",
    "        while game_is_running:\n",
    "            # print('Step i: ', i)\n",
    "            i+=1\n",
    "            sandpile_grid, agent_rewards, game_is_running = sandpile.step()\n",
    "            pos = rl_policy_agent.get_agent_pos()\n",
    "            # print('Agent pos (ij): ', pos[0], pos[1])\n",
    "\n",
    "            # get action and log prob\n",
    "            action = rl_policy_agent.action_idx\n",
    "            #only one agent is running so agent_rewards is a list with one element\n",
    "            reward = agent_rewards[0]\n",
    "\n",
    "            episode_rewards.append(reward)\n",
    "            agent_moves.append(list(Directions)[action])\n",
    "            \n",
    "\n",
    "            # input()\n",
    "\n",
    "    # print('episode_rewards: ', episode_rewards)\n",
    "    # print('agent_moves: ', agent_moves)\n",
    "    cumulative_score_episode = np.sum(episode_rewards)\n",
    "    test_scores.append(cumulative_score_episode)\n",
    "    agent_nmoves.append(len(episode_rewards))\n",
    "\n",
    "t1 = time.time()\n",
    "t_elapsed = t1 - t0\n",
    "print('Time to run sim: ', t_elapsed)\n"
   ]
  },
  {
   "cell_type": "code",
   "execution_count": 6,
   "metadata": {},
   "outputs": [
    {
     "name": "stdout",
     "output_type": "stream",
     "text": [
      "RL Agent\n",
      "Cumulative Score Quantiles:  [1633.   1810.   1871.65]\n",
      "N Moves Quantiles:  [1000. 1000. 1000.]\n"
     ]
    },
    {
     "data": {
      "image/png": "[encoded data removed]",
      "text/plain": [
       "<Figure size 640x480 with 2 Axes>"
      ]
     },
     "metadata": {},
     "output_type": "display_data"
    }
   ],
   "source": [
    "test_scores = np.array(test_scores)\n",
    "agent_nmoves = np.array(agent_nmoves)\n",
    "quantiles = [0.01, 0.5, 0.99]\n",
    "\n",
    "test_scores_quantiles = np.quantile(test_scores, quantiles)\n",
    "agent_nmoves_quantiles = np.quantile(agent_nmoves, quantiles)\n",
    "\n",
    "print('RL Agent')\n",
    "print('Cumulative Score Quantiles: ', test_scores_quantiles)\n",
    "print('N Moves Quantiles: ', agent_nmoves_quantiles)\n",
    "\n",
    "n_bins = 20\n",
    "fig_rewards, axs_rewards = plt.subplots(2,1)\n",
    "\n",
    "axs_rewards[0].hist(test_scores_quantiles,color='r',label='RL Agent',alpha=0.3,bins=n_bins)\n",
    "\n",
    "axs_rewards[0].legend()\n",
    "axs_rewards[0].set_xlabel('Cumulative Rewards')\n",
    "\n",
    "axs_rewards[1].hist(agent_nmoves_quantiles,color='r',label='RL Agent',alpha=0.3,bins=n_bins)\n",
    "\n",
    "\n",
    "axs_rewards[1].set_xlabel('Number of Moves')\n",
    "\n",
    "plt.show()\n"
   ]
  },
  {
   "cell_type": "code",
   "execution_count": null,
   "metadata": {},
   "outputs": [],
   "source": []
  }
 ],
 "metadata": {
  "accelerator": "GPU",
  "colab": {
   "collapsed_sections": [],
   "provenance": []
  },
  "environment": {
   "kernel": "python3",
   "name": "pytorch-gpu.1-12.m102",
   "type": "gcloud",
   "uri": "gcr.io/deeplearning-platform-release/pytorch-gpu.1-12:m102"
  },
  "kernelspec": {
   "display_name": "Python 3 (ipykernel)",
   "language": "python",
   "name": "python3"
  },
  "language_info": {
   "codemirror_mode": {
    "name": "ipython",
    "version": 3
   },
   "file_extension": ".py",
   "mimetype": "text/x-python",
   "name": "python",
   "nbconvert_exporter": "python",
   "pygments_lexer": "ipython3",
   "version": "3.8.10"
  }
 },
 "nbformat": 4,
 "nbformat_minor": 4
}
